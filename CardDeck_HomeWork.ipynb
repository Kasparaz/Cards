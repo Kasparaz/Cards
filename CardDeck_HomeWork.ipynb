{
 "cells": [
  {
   "cell_type": "code",
   "execution_count": 15,
   "metadata": {},
   "outputs": [
    {
     "name": "stdout",
     "output_type": "stream",
     "text": [
      "Jack Clubs\n"
     ]
    }
   ],
   "source": [
    "class Card:\n",
    "    def __init__(self, cardNumber):\n",
    "        self.cardNumber = cardNumber\n",
    "         \n",
    "    def get_suite(self):\n",
    "        return [\"Hearts\", \"Clubs\", \"Diamonds\", \"Spades\"][int(self.cardNumber/13)]   \n",
    "    \n",
    "    def get_face_value(self):\n",
    "        number = self.cardNumber % 13\n",
    "        if(number < 9):\n",
    "            return str(number +2)\n",
    "        return [\"Ace\",\"King\",\"Queen\",\"Jack\"][12-number]\n",
    "    \n",
    "    def __str__(self):\n",
    "        return f\"{self.get_face_value()} {self.get_suite()}\";\n",
    "aCard = Card(22)\n",
    "print(str(aCard))"
   ]
  },
  {
   "cell_type": "code",
   "execution_count": 32,
   "metadata": {},
   "outputs": [],
   "source": [
    "from random import *\n",
    "class CardDeck:\n",
    "    def __init__(self, total_decks = 1):\n",
    "        self._cards = []\n",
    "        self.decks=total_decks\n",
    "        while self.decks > 0:\n",
    "            for c in range(0,52):\n",
    "                cards = Card(c)\n",
    "                self.place_card_on_top(cards)\n",
    "            self.decks -= 1\n",
    "        \n",
    "    def __str__(self):\n",
    "        return f\"Deck of {len(self._cards)} Cards\"\n",
    "    \n",
    "    def display_all_cards(self):\n",
    "        for card in self._cards:\n",
    "            print(card, end = \"\\t\")\n",
    "    \n",
    "    def shuffle(self):\n",
    "        shuffle(self._cards)\n",
    "        \n",
    "    def peek(self):\n",
    "        if len(self._cards) == 0:\n",
    "            print(\"There is no more cards\")\n",
    "        else:\n",
    "            return self._cards[0]\n",
    "    \n",
    "    def draw(self):\n",
    "        if len(self._cards) == 0:\n",
    "            print(\"There is no more cards\")\n",
    "        else:\n",
    "            self._cards.pop(0)             \n",
    "        \n",
    "        \n",
    "    def place_card_on_top(self, card):\n",
    "        self._cards.insert(0,card)\n",
    "    \n",
    "    def insert_new_deck(self, new_decks):\n",
    "        while new_decks > 0:\n",
    "            for c in range(0,52):\n",
    "                crd = Card(c)\n",
    "                self.place_card_on_top(crd)\n",
    "            new_decks -= 1 \n",
    "            \n",
    "    def add_another_deck(self, other_deck):\n",
    "        self._cards = []\n",
    "        while other_deck > 0:\n",
    "            for c in range(0,52):\n",
    "                crd = Card(c)\n",
    "                self.place_card_on_top(crd)\n",
    "            other_deck -= 1\n",
    "            \n",
    "    def cut (self):\n",
    "        random_number = randint(1,len(self._cards))\n",
    "        self._cards = self._cards[random_number:len(self._cards)] + self._cards[0:random_number]"
   ]
  },
  {
   "cell_type": "code",
   "execution_count": null,
   "metadata": {},
   "outputs": [],
   "source": []
  }
 ],
 "metadata": {
  "kernelspec": {
   "display_name": "Python 3",
   "language": "python",
   "name": "python3"
  },
  "language_info": {
   "codemirror_mode": {
    "name": "ipython",
    "version": 3
   },
   "file_extension": ".py",
   "mimetype": "text/x-python",
   "name": "python",
   "nbconvert_exporter": "python",
   "pygments_lexer": "ipython3",
   "version": "3.7.4"
  }
 },
 "nbformat": 4,
 "nbformat_minor": 2
}
